{
  "metadata": {
    "kernelspec": {
      "name": "xpython",
      "display_name": "Python 3.13 (XPython)",
      "language": "python"
    },
    "language_info": {
      "file_extension": ".py",
      "mimetype": "text/x-python",
      "name": "python",
      "version": "3.13.1"
    }
  },
  "nbformat_minor": 5,
  "nbformat": 4,
  "cells": [
    {
      "id": "48fd8397-ff45-4fb7-8923-9d599f7eb2c5",
      "cell_type": "code",
      "source": "# packages\nimport numpy as np\nimport matplotlib as mpl\nimport matplotlib.pyplot as plt\nimport random",
      "metadata": {
        "trusted": true,
        "scrolled": true
      },
      "outputs": [
        {
          "name": "stderr",
          "output_type": "stream",
          "text": "Matplotlib is building the font cache; this may take a moment.\n/tmp/xpython_42/4122148159.py:5: UserWarning: A NumPy version >=1.23.5 and <2.3.0 is required for this version of SciPy (detected version 2.3.1)\n  import scipy.integrate as sci\n"
        }
      ],
      "execution_count": 1
    },
    {
      "id": "af652256-b809-49a4-8475-46e13646d5d5",
      "cell_type": "markdown",
      "source": "All necessary parameters are listed below.",
      "metadata": {}
    },
    {
      "id": "89486588-2c9a-4ead-8510-d6fe4b742626",
      "cell_type": "code",
      "source": "# dimension of the state (space)\nn = 2\n# limits of the state space\nx_lim = np.array([[-2.,2.],[-4.,4.]]) \n\n# number of data points for training\nd = int(5*1e2)\n# time interval for discretization\ndt = 0.02 \n\n# number of observables, will be automatically initialized below\n# M = 0 \n# names of possible dictionaries\ndictionaries = {'monom','simple'}\n# choice of dictionary\ndict_choice = 'monom'\n# if dict_choice='monom', the degree of monomials is chosen here\nmonom_degree = 2\n\n# starting point for training\nx_0_train = np.array([0.2,0.3])\n# starting point for testing\nx_0_test = x_0_train \n\n# how many datapoints to display \ndisplay_number_of_datapoints = 100\ndnod = display_number_of_datapoints # shorter name for convenience\n\nif dnod > d:\n    print('Warning: dnod must be smaller than d')",
      "metadata": {
        "trusted": true
      },
      "outputs": [],
      "execution_count": 2
    },
    {
      "id": "240dc037-559a-4b86-a689-a6e978a98365",
      "cell_type": "markdown",
      "source": "Firstly, we take a look at our system, the Van der Pol oscillator. Our state is $x=[x_1,x_2]^{T}\\in\\mathbb{R}$. The dynamics are given by\n\\begin{align}\n\\frac{d}{dt}\\begin{pmatrix} x_1\\\\x_2\n\\end{pmatrix}=f(x_1,x_2)=\\begin{pmatrix}\nx_2\\\\-x_1-\\mu (x_{1}^{2}-1)x_2\n\\end{pmatrix}\n\\end{align}\nwith state $\\mathbf{x}=[x_1,x_2]$ and parameter $\\mu=2$.\n\nThese dynamics are described trough the function \"vdp_dynamic\". The function \"vdp_next\" describes the dynamic for the discretized system (with zero-order-hold), i.e.\n\\begin{align}\nx^{+}&=\\Delta t \\cdot f(x).\n\\end{align}\n\nUsing this dynamic and a starting point \"x_0_train\", we calculate and plot a trajectory.\n\nTO DO: write the dynamic function $f$ into the function \"vdp_dynamic\".",
      "metadata": {}
    },
    {
      "id": "2a73472f-ebc2-4abe-9f8d-01fc6a0dbc6e",
      "cell_type": "code",
      "source": "def vdp_dynamic(x,mu=2):\n    x_dot = np.array([])\n    return x_dot\n\ndef vdp_next(x,dt=dt):\n    return x+dt*vdp_dynamic(x)\n    \n# initialization of the trajectory x\nx_traj = np.zeros([n,d])\nx_traj[:,0] = x_0_train\n\n# calculating the trajectory using the discretized dynamics\nfor i in range(1,d):\n    x_traj[:,i] = vdp_next(x_traj[:,i-1])\n\n# plot\ndef plot(x,title):\n    plt.figure()    \n    plt.scatter(x[0,:],x[1,:],s=0.1)\n    plt.xlabel('x_1')\n    plt.ylabel('x_2')\n    plt.title(title)\n    plt.show()\n\nplot(x_traj,'Van-der-Pol-Oscillator')",
      "metadata": {
        "trusted": true
      },
      "outputs": [
        {
          "ename": "<class 'SyntaxError'>",
          "evalue": "invalid syntax (1647575410.py, line 2)",
          "traceback": [
            "  \u001b[36mCell\u001b[39m\u001b[36m \u001b[39m\u001b[32mIn[3]\u001b[39m\u001b[32m, line 2\u001b[39m\n\u001b[31m    \u001b[39m\u001b[31mx_dot =\u001b[39m\n            ^\n\u001b[31mSyntaxError\u001b[39m\u001b[31m:\u001b[39m invalid syntax\n"
          ],
          "output_type": "error"
        }
      ],
      "execution_count": 3
    },
    {
      "id": "a530b513-b24e-4342-9f5f-c3d3003d14aa",
      "cell_type": "markdown",
      "source": "For i.i.d. sampling, we generate random starting points:",
      "metadata": {}
    },
    {
      "id": "8ba794de-bd17-4e73-9abe-54e853d0b98a",
      "cell_type": "code",
      "source": "x_random = np.zeros([n,d])\nfor i in range(d):\n    for j in range(n):\n        x_random[j,i]=random.uniform(x_lim[j,0],x_lim[j,1])\n\nplot(x_random,'random starting points')",
      "metadata": {
        "trusted": true
      },
      "outputs": [],
      "execution_count": null
    },
    {
      "id": "1dc3e237-0787-463d-b8af-075e0d9755bc",
      "cell_type": "markdown",
      "source": "In order to determine the Koopman operator, we need a dictionary $\\{\\varphi_1,\\ldots,\\varphi_M\\}$. The observables are defined in the observables-function. The number $M$ of observables is set according to the chosen dictionary.",
      "metadata": {}
    },
    {
      "id": "cf3d8f2f-d727-4af8-98d0-0a53a711ee32",
      "cell_type": "code",
      "source": "def observables(x,dict_choice=dict_choice,monom_degree=monom_degree):\n    if dict_choice=='monom':\n        g = np.array([1])\n        for i in range(1,monom_degree+1):\n            for j in range(i+1):\n                g = np.append(g,(x[0]**(i-j))*(x[1]**j))\n    elif dict_choice=='simple':\n        g = np.array([1,x[0],x[1],x[0]*x[1],x[0]**2,x[1]**2])\n    return g\n\n# setting m, the number of observables\nM = observables(np.zeros(n),dict_choice).size\nprint('number of observables: M='+str(M))",
      "metadata": {
        "trusted": true
      },
      "outputs": [],
      "execution_count": null
    },
    {
      "id": "adac978a-e8cc-4a41-a876-440cc304890f",
      "cell_type": "markdown",
      "source": "Now, we compute $(K^{\\Delta t}_d)^\\top$:\n\\begin{align}\n(K^{\\Delta t}_d)^\\top = (\\Psi_X \\Psi_X^\\top)^{-1} \\Psi_X \\Psi_y^\\top,\n\\end{align}\nor, using the Moore-Penrose-inverse $\\Psi_X^\\dagger = \\Psi_X^\\top (\\Psi_X\\Psi_X^\\top)^{-1}$,\n\\begin{align}\nK_d^{\\Delta t} =\\Psi_Y\\Psi_X^\\dagger,\n\\end{align}\nusing the data matrices $\\Psi_X,\\Psi_Y\\in\\mathbb{R}^{M\\times d}$:\n\\begin{align}\n\\Psi_X =\\begin{pmatrix}\n\\psi_1(\\mathbf{x}_1)&\\ldots&\\psi_1(\\mathbf{x}_d)\\\\\n\\vdots & & \\vdots\\\\\n\\psi_M(\\mathbf{x}_1)&\\ldots&\\psi_M(\\mathbf{x}_d)\n\\end{pmatrix}, \\Psi_Y =\n\\begin{pmatrix}\n\\psi_1(F(\\mathbf{x}_1))&\\ldots&\\psi_1(F(\\mathbf{x}_d))\\\\\n\\vdots & & \\vdots\\\\\n\\psi_M(F(\\mathbf{x}_1))&\\ldots&\\psi_M(F(\\mathbf{x}_d))\n\\end{pmatrix}.\n\\end{align}\n\nTO DO: Write the function \"Koopman_approx\" which computes the Koopman operator out of the data (for i.i.d. sampling: use \"x_random\"; for ergodic sampling: use \"x_traj\"), utilizing the functions \"vdp_next\" and \"observables\".",
      "metadata": {}
    },
    {
      "id": "cea7f859-e753-479e-a802-e5a549e9afed",
      "cell_type": "code",
      "source": "def Koopman_approx(x_data):\n    \n    return K\n    \nK = Koopman_approx(x_traj)",
      "metadata": {
        "trusted": true
      },
      "outputs": [],
      "execution_count": null
    },
    {
      "id": "89972931-951d-4659-af9f-2e5d40c6e709",
      "cell_type": "markdown",
      "source": "The next step is the computation of a trajectory, starting at \"x_0_test\", using the approximated Koopman operator.\n\nTO DO: complete the function \"Koopman_traj\".",
      "metadata": {}
    },
    {
      "id": "604df0c7-607a-4eb2-b834-a7dd1c008b6d",
      "cell_type": "code",
      "source": "def Koopman_traj(n,d,x_0,K):\n    x_koop = np.zeros([n,d])\n    x_koop[:,0] = x_0_test\n    \n    for i in range(1,d):\n\n    return x_koop\n\nx_koop=Koopman_traj(n,d,x_0_test,K)  ",
      "metadata": {
        "trusted": true
      },
      "outputs": [],
      "execution_count": null
    },
    {
      "id": "b11a9e5e-f9e4-46f1-87f9-9864b14f02d2",
      "cell_type": "markdown",
      "source": "Finally we plot our results.",
      "metadata": {}
    },
    {
      "id": "f0859148-639b-4c54-9283-6c2216d2d52e",
      "cell_type": "code",
      "source": "def plot_comp(x,y,dnod,title,xlabel='data A',ylabel='data B'):\n    plt.figure()    \n    plt.scatter(x[0,0:dnod],x[1,0:dnod],s=1,label=xlabel)\n    plt.scatter(y[0,0:dnod],x[1,0:dnod],s=1,label=ylabel)\n    plt.xlabel('x_1')\n    plt.ylabel('x_2')\n    plt.title(title)\n    plt.legend()\n    plt.show()\n    \nplot_comp(x_koop,x_traj,dnod,'comparison','Koopman','analytical')\n\ndef euclidian_error(x_1,x_2,d=d):\n    e = np.zeros([1,d])\n    for i in range(d):\n        e[0,i] = np.linalg.norm(x_1[:,i]-x_2[:,i])\n    return e\n\ndef error_plot(e,dnod,title): \n    plt.figure()    \n    plt.plot(np.arange(1,dnod),e[0,1:dnod])\n    plt.xlabel('x_1')\n    plt.ylabel('x_2')\n    plt.semilogy()\n    plt.title(title)\n    plt.show()\n    return\n\nerror = euclidian_error(x_koop, x_traj)\nerror_plot(error, dnod, 'Error')",
      "metadata": {
        "trusted": true
      },
      "outputs": [],
      "execution_count": null
    }
  ]
}